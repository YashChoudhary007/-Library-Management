{
 "cells": [
  {
   "cell_type": "code",
   "execution_count": null,
   "id": "f10e5f2a",
   "metadata": {},
   "outputs": [
    {
     "name": "stdout",
     "output_type": "stream",
     "text": [
      "----------------------------------------\n"
     ]
    }
   ],
   "source": [
    "Borrowed_books = {}\n",
    "Books = {}\n",
    "\n",
    "print(\"-\"*40)\n",
    "while True:\n",
    "    Username =\"yash\"\n",
    "    Password =\"yash02\"\n",
    "    \n",
    "    \n",
    "    u = input(\"Enter your Name\")\n",
    "    p = input(\"Enter Password\")\n",
    "    \n",
    "    if u== Username and p== Password:\n",
    "        print(\"WElcome to librabry\")\n",
    "        \n",
    "    else:\n",
    "        print(\"enter correct details\")\n",
    "        continue\n",
    "    \n",
    "    \n",
    "    Books = {\"math\":10,\"hindi\":14,\"science\":15,\"computer\":8,\"english\":15}    \n",
    "    while True:\n",
    "        print(\"\"\" \n",
    "        press 1 to Add book\n",
    "        press 2 to Borrow books\n",
    "        press 3 to Return books \n",
    "        press 4 to Display borrow books with name: \"\"\")\n",
    "        \n",
    "        choice = int(input(\"enter your choice between 1 - 4: \"))\n",
    "        \n",
    "        if choice == 1:\n",
    "           \n",
    "           \n",
    "            print(Books)\n",
    "            print(\"Enter a book you want to add in the library: \")\n",
    "            print(\"-\"*40)\n",
    "            Add_Book = input(\"Enter  book name : \")\n",
    "            Add_Quantity = int(input(\"How many books you want to add : \"))\n",
    "            Books[Add_Book]+=Add_Quantity\n",
    "            print(Books)\n",
    "\n",
    "        \n",
    "        elif choice == 2:\n",
    "            Name = input(\"enter student's name: \")\n",
    "            \n",
    "            print(\"Available books are\",Books)\n",
    "            Book = input(\"enter a book name you borrow: \")\n",
    "            if Book in Books.keys():\n",
    "                print(\"book is available: \")\n",
    "                Borrowed_books[Name] = Book\n",
    "                Books[Book] = Books[Book] -1\n",
    "                print(Books)\n",
    "\n",
    "            else:\n",
    "                print(\"mentioned book is not available\")\n",
    "                break\n",
    "\n",
    "\n",
    "        elif choice == 3:\n",
    "            Name = input(\"enter student's name: \")\n",
    "            return_Book = input(\"book you have return: \")\n",
    "            del Borrowed_books[Name]\n",
    "            Books[return_Book] = Books[return_Book]+1\n",
    "            print(Books)\n",
    "            \n",
    "        elif choice == 4:\n",
    "            print(Borrowed_books)\n",
    "            \n",
    "        repeat = input(\"Next input? (yes\\no)\")\n",
    "        if repeat == \"no\":\n",
    "            break\n",
    "print(\"-\"*40)"
   ]
  },
  {
   "cell_type": "code",
   "execution_count": null,
   "id": "82fbc86c",
   "metadata": {},
   "outputs": [],
   "source": []
  },
  {
   "cell_type": "code",
   "execution_count": null,
   "id": "a1a83d40",
   "metadata": {},
   "outputs": [],
   "source": []
  }
 ],
 "metadata": {
  "kernelspec": {
   "display_name": "Python 3 (ipykernel)",
   "language": "python",
   "name": "python3"
  },
  "language_info": {
   "codemirror_mode": {
    "name": "ipython",
    "version": 3
   },
   "file_extension": ".py",
   "mimetype": "text/x-python",
   "name": "python",
   "nbconvert_exporter": "python",
   "pygments_lexer": "ipython3",
   "version": "3.11.4"
  }
 },
 "nbformat": 4,
 "nbformat_minor": 5
}
